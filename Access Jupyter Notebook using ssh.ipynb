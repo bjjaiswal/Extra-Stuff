{
 "cells": [
  {
   "cell_type": "markdown",
   "metadata": {},
   "source": [
    "Using Jupyter-Notebook for Data Analysis part has given me a lot help and intuition. I have been using Jupyter Notebook since 2015 on my laptop with no problem at all. "
   ]
  },
  {
   "cell_type": "markdown",
   "metadata": {},
   "source": [
    "Real problem came when I had to access cluster and do analysis in Nvidia's GPU card. "
   ]
  },
  {
   "cell_type": "markdown",
   "metadata": {},
   "source": [
    "## Solution to access to open and manipulate an IPython notebook running on a remote computer "
   ]
  },
  {
   "cell_type": "markdown",
   "metadata": {},
   "source": [
    "## Step 1:"
   ]
  },
  {
   "cell_type": "markdown",
   "metadata": {},
   "source": [
    "### ssh your server or remote machine using below command\n",
    "```shell\n",
    "ssh username@hostip\n",
    "```\n",
    "for example:\n",
    "```shell\n",
    "ssh bikash@192.168.124.4\n",
    "```"
   ]
  },
  {
   "cell_type": "markdown",
   "metadata": {},
   "source": [
    "\n",
    "\n",
    "Type the following syntax in terminal\n",
    "\n",
    "```python\n",
    "[bikash_csb13@cudatez Tutorial_GPU]$ jupyter-notebook --no-browser --port=8888\n",
    "```"
   ]
  },
  {
   "cell_type": "markdown",
   "metadata": {},
   "source": [
    "## Step 2: "
   ]
  },
  {
   "cell_type": "markdown",
   "metadata": {},
   "source": [
    "### open terminal in your laptop or desktop"
   ]
  },
  {
   "cell_type": "markdown",
   "metadata": {},
   "source": [
    "Type the following syntax in you laptop\n",
    "```shell\n",
    "ssh -N -f -L localhost:8889:localhost:8888 bikash_csb13@192.168.124.3\n",
    "```\n",
    "Here, you have seen two port number:\n",
    " * first port is of your laptop in which your Jupter-Notebook will be displayed\n",
    " * second post is of remote in which your Jupyter-notebook will be executed"
   ]
  },
  {
   "cell_type": "markdown",
   "metadata": {},
   "source": [
    "## Step 3:"
   ]
  },
  {
   "cell_type": "code",
   "execution_count": null,
   "metadata": {
    "collapsed": true
   },
   "outputs": [],
   "source": [
    "open your browser and tpy"
   ]
  }
 ],
 "metadata": {
  "anaconda-cloud": {},
  "kernelspec": {
   "display_name": "Python [conda root]",
   "language": "python",
   "name": "conda-root-py"
  },
  "language_info": {
   "codemirror_mode": {
    "name": "ipython",
    "version": 3
   },
   "file_extension": ".py",
   "mimetype": "text/x-python",
   "name": "python",
   "nbconvert_exporter": "python",
   "pygments_lexer": "ipython3",
   "version": "3.5.2"
  }
 },
 "nbformat": 4,
 "nbformat_minor": 1
}
